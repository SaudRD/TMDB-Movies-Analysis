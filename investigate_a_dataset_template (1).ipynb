{
  "cells": [
    {
      "cell_type": "markdown",
      "metadata": {
        "id": "LC25X4Q8W3cn"
      },
      "source": [
        "\n",
        "# Project: Investigate a Tmdb Movies Dataset\n",
        "\n",
        "## Table of Contents\n",
        "<ul>\n",
        "<li><a href=\"#intro\">Introduction</a></li>\n",
        "<li><a href=\"#wrangling\">Data Wrangling</a></li>\n",
        "<li><a href=\"#eda\">Exploratory Data Analysis</a></li>\n",
        "<li><a href=\"#conclusions\">Conclusions</a></li>\n",
        "</ul>"
      ]
    },
    {
      "cell_type": "markdown",
      "metadata": {
        "id": "h4p9CUO_W3cs"
      },
      "source": [
        "<a id='intro'></a>\n",
        "## Introduction\n",
        "\n",
        "> This dataset include movies from 1960 until almost 2015, and have a lot of rich information like what movies had low or high budget which movies or tv show was good in this year or that year and a lot of other things we gonna explore.\n",
        "\n",
        "From this dataset we could try to solve many different questions such as:\n",
        "  \n",
        "\n",
        "*   Which genres are most popular from year to year?\n",
        "*   What kinds of properties are associated with movies that have high revenues?\n",
        "*   Which director produces the most movies?\n",
        "*   What is the top 10 most profitable movies?\n",
        "*   How number of movies released has evloved over time?\n",
        "*   who are the most profitable directors?\n",
        "\n",
        "For the analysis included in the notebook i have chosen to look at the following 4 questions:\n",
        "\n",
        "\n",
        "\n",
        "```\n",
        "*   Which genres are most popular from year to year?\n",
        "*   What kinds of properties are associated with movies that have high revenues?\n",
        "*   Which director produces the most movies?\n",
        "*   What is the top 10 most profitable movies?\n",
        "```\n",
        "\n",
        "\n",
        "\n",
        "\n",
        "\n",
        "\n",
        "\n"
      ]
    },
    {
      "cell_type": "code",
      "execution_count": 1,
      "metadata": {
        "collapsed": true,
        "id": "9sVUY5NkW3ct"
      },
      "outputs": [],
      "source": [
        "# Use this cell to set up import statements for all of the packages that you\n",
        "#   plan to use.\n",
        "\n",
        "import numpy as np # linear algebra\n",
        "import pandas as pd # data processing, CSV file I/O (e.g. pd.read_csv)\n",
        "%matplotlib inline\n",
        "import matplotlib.pyplot as plt\n",
        "import seaborn as sns\n",
        "sns.set(style=\"darkgrid\")\n",
        "\n"
      ]
    },
    {
      "cell_type": "markdown",
      "metadata": {
        "id": "bSkIG3AcW3cu"
      },
      "source": [
        "<a id='wrangling'></a>\n",
        "## Data Wrangling "
      ]
    },
    {
      "cell_type": "code",
      "execution_count": 22,
      "metadata": {
        "collapsed": true,
        "id": "qxNlSlyLW3cv",
        "colab": {
          "base_uri": "https://localhost:8080/",
          "height": 0
        },
        "outputId": "0d4cfccf-8c96-4164-a485-7101dc87291f"
      },
      "outputs": [
        {
          "output_type": "stream",
          "name": "stdout",
          "text": [
            "Numbers Of Dublicated :  0\n",
            "   \n",
            "                  id    popularity        budget       revenue       runtime  \\\n",
            "count   10793.000000  10793.000000  1.079300e+04  1.079300e+04  10793.000000   \n",
            "mean    65559.266376      0.649694  1.472068e+07  4.009156e+07    102.223941   \n",
            "std     91760.206943      1.002707  3.099455e+07  1.173529e+08     30.751141   \n",
            "min         5.000000      0.000188  0.000000e+00  0.000000e+00      0.000000   \n",
            "25%     10567.000000      0.209216  0.000000e+00  0.000000e+00     90.000000   \n",
            "50%     20443.000000      0.385532  0.000000e+00  0.000000e+00     99.000000   \n",
            "75%     74643.000000      0.718104  1.600000e+07  2.463747e+07    112.000000   \n",
            "max    417859.000000     32.985763  4.250000e+08  2.781506e+09    900.000000   \n",
            "\n",
            "         vote_count  vote_average  release_year    budget_adj   revenue_adj  \n",
            "count  10793.000000  10793.000000  10793.000000  1.079300e+04  1.079300e+04  \n",
            "mean     218.729454      5.970583   2001.284166  1.766582e+07  5.171065e+07  \n",
            "std      577.329995      0.932890     12.821859  3.439224e+07  1.450593e+08  \n",
            "min       10.000000      1.500000   1960.000000  0.000000e+00  0.000000e+00  \n",
            "25%       17.000000      5.400000   1995.000000  0.000000e+00  0.000000e+00  \n",
            "50%       39.000000      6.000000   2006.000000  0.000000e+00  0.000000e+00  \n",
            "75%      147.000000      6.600000   2011.000000  2.103337e+07  3.410449e+07  \n",
            "max     9767.000000      9.200000   2015.000000  4.250000e+08  2.827124e+09  \n",
            "   \n",
            "<class 'pandas.core.frame.DataFrame'>\n",
            "Int64Index: 10793 entries, 0 to 10865\n",
            "Data columns (total 16 columns):\n",
            " #   Column          Non-Null Count  Dtype  \n",
            "---  ------          --------------  -----  \n",
            " 0   id              10793 non-null  int64  \n",
            " 1   imdb_id         10793 non-null  object \n",
            " 2   popularity      10793 non-null  float64\n",
            " 3   budget          10793 non-null  int64  \n",
            " 4   revenue         10793 non-null  int64  \n",
            " 5   original_title  10793 non-null  object \n",
            " 6   director        10793 non-null  object \n",
            " 7   overview        10793 non-null  object \n",
            " 8   runtime         10793 non-null  int64  \n",
            " 9   genres          10793 non-null  object \n",
            " 10  release_date    10793 non-null  object \n",
            " 11  vote_count      10793 non-null  int64  \n",
            " 12  vote_average    10793 non-null  float64\n",
            " 13  release_year    10793 non-null  int64  \n",
            " 14  budget_adj      10793 non-null  float64\n",
            " 15  revenue_adj     10793 non-null  float64\n",
            "dtypes: float64(4), int64(6), object(6)\n",
            "memory usage: 1.4+ MB\n",
            "None\n"
          ]
        }
      ],
      "source": [
        "data = pd.read_csv(r\"/content/tmdb-movies.csv\")\n",
        "\n",
        "data.drop_duplicates(subset=['original_title','popularity'], inplace=True)\n",
        "# Drop columns that won’t be used in our analysis\n",
        "data.drop(columns = ['tagline','homepage', 'cast', 'production_companies', 'keywords'], inplace=True)\n",
        "# Drop the missing value at genres columns\n",
        "data.dropna(how='any', subset=['genres','director','overview','id','imdb_id'], inplace=True)\n",
        "\n",
        "# funcation to print describe and info & dublicated data from any dataset\n",
        "def PrintDesInfo(d):\n",
        "  # No duplicated row\n",
        "  print(\"Numbers Of Dublicated : \",data.duplicated().sum())\n",
        "  print(\"   \")\n",
        "  print(d.describe())\n",
        "  print(\"   \")\n",
        "\n",
        "  print(d.info())\n",
        "\n",
        "PrintDesInfo(data)\n",
        "\n",
        "# split the genres string\n",
        "data.genres = data.genres.str.split('|')\n"
      ]
    },
    {
      "cell_type": "markdown",
      "metadata": {
        "id": "cy8__SbIW3cx"
      },
      "source": [
        "<a id='eda'></a>\n",
        "## Exploratory Data Analysis\n",
        "\n",
        "\n",
        "\n",
        "### Research Question 1 : Which genres are most popular from year to year?"
      ]
    },
    {
      "cell_type": "code",
      "execution_count": 6,
      "metadata": {
        "collapsed": true,
        "id": "b64GVv7sW3cy",
        "colab": {
          "base_uri": "https://localhost:8080/",
          "height": 405
        },
        "outputId": "644fa75b-c35e-4b60-a7a5-4680cbb93d4b"
      },
      "outputs": [
        {
          "output_type": "stream",
          "name": "stdout",
          "text": [
            "   release_year     genres  popularity\n",
            "0          1960   Thriller    0.811910\n",
            "1          1961  Animation    2.631987\n",
            "2          1962  Adventure    0.942513\n",
            "3          1963  Animation    2.180410\n",
            "4          1964        War    0.930959\n"
          ]
        },
        {
          "output_type": "display_data",
          "data": {
            "text/plain": [
              "<Figure size 432x288 with 1 Axes>"
            ],
            "image/png": "[encoded data removed]"
          },
          "metadata": {}
        }
      ],
      "source": [
        "# Use this, and more code cells, to explore your data. Don't forget to add\n",
        "#   Markdown cells to document your observations and findings.\n",
        "\n",
        "# create genre list( create each row for each gen) using explode \n",
        "data = data.explode('genres')\n",
        "\n",
        "# groupby year again and get the largest value\n",
        "data.groupby(['release_year','genres'])['popularity'].mean().groupby(level='release_year').nlargest(1)\n",
        "\n",
        "# tidy up the data by removing extra row index by reset index\n",
        "df1 = data.groupby(['release_year','genres'])['popularity'].mean().groupby(level='release_year').nlargest(1).reset_index(level=0, drop=True)\n",
        "# change the pandas series to pandas dataframe\n",
        "df1 = df1.reset_index()\n",
        "\n",
        "print(df1.head(5))\n",
        "\n",
        "g = sns.scatterplot(x=\"release_year\", y=\"popularity\", hue=\"genres\", data=df1)\n",
        "g.set_title(\"Most Popular Genre of Each Year\")\n",
        "sns.move_legend(g, \"upper left\", bbox_to_anchor=(1, 1))"
      ]
    },
    {
      "cell_type": "markdown",
      "metadata": {
        "id": "YkIboKjiW3cy"
      },
      "source": [
        "### Research Question 2 : What kinds of properties are associated with movies that have high revenues?"
      ]
    },
    {
      "cell_type": "code",
      "execution_count": 7,
      "metadata": {
        "collapsed": true,
        "id": "SlEMyM7oW3cz",
        "colab": {
          "base_uri": "https://localhost:8080/",
          "height": 749
        },
        "outputId": "016c6f39-7741-425f-9b93-667e2677d765"
      },
      "outputs": [
        {
          "output_type": "stream",
          "name": "stdout",
          "text": [
            "       genres     budget     revenue  net_profit  popularity\n",
            "0      Action  66.103123  169.886215  103.783092    1.299164\n",
            "1   Adventure  55.226775  163.500596  108.273822    1.621153\n",
            "3      Comedy  50.429814  132.172056   81.742242    0.883376\n",
            "6       Drama  56.544787  130.507679   73.962892    0.860232\n",
            "17   Thriller  50.022766  117.679517   67.656751    1.035913\n",
            "   \n"
          ]
        },
        {
          "output_type": "display_data",
          "data": {
            "text/plain": [
              "<Figure size 1080x720 with 1 Axes>"
            ],
            "image/png": "[encoded data removed]"
          },
          "metadata": {}
        }
      ],
      "source": [
        "#create new column ---- calculate net profit for each movie\n",
        "data['net_profit'] = data['revenue'] - data['budget']\n",
        "#we know budget can't be less than 0, so filter out the dataframe\n",
        "rev = data[data['budget'] > 0]\n",
        "# calculate the correlation\n",
        "#print(rev.corr())\n",
        "\n",
        "# group the genre \n",
        "rev = rev.groupby('genres', as_index =False).agg({'budget':'sum','revenue':'sum','net_profit':'sum','popularity':'mean'})\n",
        "# sort by highest revenue\n",
        "rev = rev.sort_values(by='revenue', ascending=False)\n",
        "#convert revenue in 1 billion unit\n",
        "rev['revenue'] =rev['revenue']/1000000000\n",
        "# convert net profit in 1 billion unit\n",
        "rev['net_profit'] =rev['net_profit']/1000000000\n",
        "# convert budget in 1 billion unit\n",
        "rev['budget'] =rev['budget']/1000000000\n",
        "\n",
        "\n",
        "print(rev.head(5))\n",
        "\n",
        "# set chart dimension\n",
        "plt.figure(figsize=(15,10))\n",
        "# set plotting style\n",
        "sns.set_style('ticks')\n",
        "# set title\n",
        "plt.title('Movie Genre : Revenue vs Budget (Billion)')\n",
        "plt.xlabel('Budget')\n",
        "plt.ylabel('Revenue')\n",
        "# draw scatter plot\n",
        "sns.scatterplot(x=\"budget\", y=\"revenue\", data=rev)\n",
        "print(\"   \")\n",
        "plt.show()"
      ]
    },
    {
      "cell_type": "markdown",
      "source": [
        "### Research Question 3 : Which director produces the most movies?"
      ],
      "metadata": {
        "id": "3kx7hQPJrLdy"
      }
    },
    {
      "cell_type": "code",
      "source": [
        "#Funcation to show the most value of any data\n",
        "def ShowMost(x):    \n",
        "  MostValues = data[x]\n",
        "  MostValues.value_counts().head(n=10).sort_values().plot(kind = 'barh')\n",
        "  plt.show()\n",
        "\n",
        "print(\" \")\n",
        "print(\"Which director produces the most movies?\")\n",
        "ShowMost('director')\n",
        "\n",
        "#we can use this funcation on generes as well\n",
        "print(\" \")\n",
        "print(\"The most movies generes made is\")\n",
        "ShowMost('genres')"
      ],
      "metadata": {
        "colab": {
          "base_uri": "https://localhost:8080/",
          "height": 588
        },
        "id": "J2IdT_N2qwTn",
        "outputId": "4f59b804-39ee-465c-bc67-6786aaa718c1"
      },
      "execution_count": 17,
      "outputs": [
        {
          "output_type": "stream",
          "name": "stdout",
          "text": [
            " \n",
            "Which director produces the most movies?\n"
          ]
        },
        {
          "output_type": "display_data",
          "data": {
            "text/plain": [
              "<Figure size 432x288 with 1 Axes>"
            ],
            "image/png": "[encoded data removed]"
          },
          "metadata": {}
        },
        {
          "output_type": "stream",
          "name": "stdout",
          "text": [
            " \n",
            "The most movies generes made is\n"
          ]
        },
        {
          "output_type": "display_data",
          "data": {
            "text/plain": [
              "<Figure size 432x288 with 1 Axes>"
            ],
            "image/png": "[encoded data removed]"
          },
          "metadata": {}
        }
      ]
    },
    {
      "cell_type": "markdown",
      "source": [
        "### Research Question 4 : What is the top 10 most profitable movies?"
      ],
      "metadata": {
        "id": "-Ep-1dmQ1DqC"
      }
    },
    {
      "cell_type": "code",
      "source": [
        "profit = data.groupby(['original_title', 'popularity','genres', 'release_year', 'revenue','budget'])['net_profit'].sum()\n",
        "profit = profit.reset_index().sort_values(by='net_profit', ascending=False)[:35]\n",
        "# calculate return in investment - ROI\n",
        "profit['ROI'] = profit['net_profit']/profit['budget']\n",
        "profit.drop_duplicates(subset=['original_title'], inplace=True)\n",
        "profit"
      ],
      "metadata": {
        "colab": {
          "base_uri": "https://localhost:8080/",
          "height": 363
        },
        "id": "F9u6O1EvtwU1",
        "outputId": "d343ce0a-9a7e-421b-dda0-dd0739fef299"
      },
      "execution_count": null,
      "outputs": [
        {
          "output_type": "execute_result",
          "data": {
            "text/plain": [
              "                                     original_title  popularity  \\\n",
              "2027                                         Avatar    9.432768   \n",
              "18602                  Star Wars: The Force Awakens   11.173104   \n",
              "24721                                       Titanic    4.355219   \n",
              "11167                                Jurassic World   32.985763   \n",
              "8079                                      Furious 7    9.335014   \n",
              "19810                                  The Avengers    7.637767   \n",
              "9063   Harry Potter and the Deathly Hallows: Part 2    5.711315   \n",
              "2036                        Avengers: Age of Ultron    5.944927   \n",
              "8036                                         Frozen    6.112766   \n",
              "22669                                       The Net    1.136610   \n",
              "\n",
              "                genres  release_year     revenue     budget  net_profit  \\\n",
              "2027            Action          2009  2781505847  237000000  2544505847   \n",
              "18602        Adventure          2015  2068178225  200000000  1868178225   \n",
              "24721            Drama          1997  1845034188  200000000  1645034188   \n",
              "11167         Thriller          2015  1513528810  150000000  1363528810   \n",
              "8079          Thriller          2015  1506249360  190000000  1316249360   \n",
              "19810  Science Fiction          2012  1519557910  220000000  1299557910   \n",
              "9063           Fantasy          2011  1327817822  125000000  1202817822   \n",
              "2036   Science Fiction          2015  1405035767  280000000  1125035767   \n",
              "8036         Animation          2013  1274219009  150000000  1124219009   \n",
              "22669            Drama          1995  1106279658   22000000  1084279658   \n",
              "\n",
              "             ROI  \n",
              "2027   10.736312  \n",
              "18602   9.340891  \n",
              "24721   8.225171  \n",
              "11167   9.090192  \n",
              "8079    6.927628  \n",
              "19810   5.907081  \n",
              "9063    9.622543  \n",
              "2036    4.017985  \n",
              "8036    7.494793  \n",
              "22669  49.285439  "
            ],
            "text/html": [
              "\n",
              "  <div id=\"df-b328a4d5-0950-4404-87a0-33606949ac2d\">\n",
              "    <div class=\"colab-df-container\">\n",
              "      <div>\n",
              "<style scoped>\n",
              "    .dataframe tbody tr th:only-of-type {\n",
              "        vertical-align: middle;\n",
              "    }\n",
              "\n",
              "    .dataframe tbody tr th {\n",
              "        vertical-align: top;\n",
              "    }\n",
              "\n",
              "    .dataframe thead th {\n",
              "        text-align: right;\n",
              "    }\n",
              "</style>\n",
              "<table border=\"1\" class=\"dataframe\">\n",
              "  <thead>\n",
              "    <tr style=\"text-align: right;\">\n",
              "      <th></th>\n",
              "      <th>original_title</th>\n",
              "      <th>popularity</th>\n",
              "      <th>genres</th>\n",
              "      <th>release_year</th>\n",
              "      <th>revenue</th>\n",
              "      <th>budget</th>\n",
              "      <th>net_profit</th>\n",
              "      <th>ROI</th>\n",
              "    </tr>\n",
              "  </thead>\n",
              "  <tbody>\n",
              "    <tr>\n",
              "      <th>2027</th>\n",
              "      <td>Avatar</td>\n",
              "      <td>9.432768</td>\n",
              "      <td>Action</td>\n",
              "      <td>2009</td>\n",
              "      <td>2781505847</td>\n",
              "      <td>237000000</td>\n",
              "      <td>2544505847</td>\n",
              "      <td>10.736312</td>\n",
              "    </tr>\n",
              "    <tr>\n",
              "      <th>18602</th>\n",
              "      <td>Star Wars: The Force Awakens</td>\n",
              "      <td>11.173104</td>\n",
              "      <td>Adventure</td>\n",
              "      <td>2015</td>\n",
              "      <td>2068178225</td>\n",
              "      <td>200000000</td>\n",
              "      <td>1868178225</td>\n",
              "      <td>9.340891</td>\n",
              "    </tr>\n",
              "    <tr>\n",
              "      <th>24721</th>\n",
              "      <td>Titanic</td>\n",
              "      <td>4.355219</td>\n",
              "      <td>Drama</td>\n",
              "      <td>1997</td>\n",
              "      <td>1845034188</td>\n",
              "      <td>200000000</td>\n",
              "      <td>1645034188</td>\n",
              "      <td>8.225171</td>\n",
              "    </tr>\n",
              "    <tr>\n",
              "      <th>11167</th>\n",
              "      <td>Jurassic World</td>\n",
              "      <td>32.985763</td>\n",
              "      <td>Thriller</td>\n",
              "      <td>2015</td>\n",
              "      <td>1513528810</td>\n",
              "      <td>150000000</td>\n",
              "      <td>1363528810</td>\n",
              "      <td>9.090192</td>\n",
              "    </tr>\n",
              "    <tr>\n",
              "      <th>8079</th>\n",
              "      <td>Furious 7</td>\n",
              "      <td>9.335014</td>\n",
              "      <td>Thriller</td>\n",
              "      <td>2015</td>\n",
              "      <td>1506249360</td>\n",
              "      <td>190000000</td>\n",
              "      <td>1316249360</td>\n",
              "      <td>6.927628</td>\n",
              "    </tr>\n",
              "    <tr>\n",
              "      <th>19810</th>\n",
              "      <td>The Avengers</td>\n",
              "      <td>7.637767</td>\n",
              "      <td>Science Fiction</td>\n",
              "      <td>2012</td>\n",
              "      <td>1519557910</td>\n",
              "      <td>220000000</td>\n",
              "      <td>1299557910</td>\n",
              "      <td>5.907081</td>\n",
              "    </tr>\n",
              "    <tr>\n",
              "      <th>9063</th>\n",
              "      <td>Harry Potter and the Deathly Hallows: Part 2</td>\n",
              "      <td>5.711315</td>\n",
              "      <td>Fantasy</td>\n",
              "      <td>2011</td>\n",
              "      <td>1327817822</td>\n",
              "      <td>125000000</td>\n",
              "      <td>1202817822</td>\n",
              "      <td>9.622543</td>\n",
              "    </tr>\n",
              "    <tr>\n",
              "      <th>2036</th>\n",
              "      <td>Avengers: Age of Ultron</td>\n",
              "      <td>5.944927</td>\n",
              "      <td>Science Fiction</td>\n",
              "      <td>2015</td>\n",
              "      <td>1405035767</td>\n",
              "      <td>280000000</td>\n",
              "      <td>1125035767</td>\n",
              "      <td>4.017985</td>\n",
              "    </tr>\n",
              "    <tr>\n",
              "      <th>8036</th>\n",
              "      <td>Frozen</td>\n",
              "      <td>6.112766</td>\n",
              "      <td>Animation</td>\n",
              "      <td>2013</td>\n",
              "      <td>1274219009</td>\n",
              "      <td>150000000</td>\n",
              "      <td>1124219009</td>\n",
              "      <td>7.494793</td>\n",
              "    </tr>\n",
              "    <tr>\n",
              "      <th>22669</th>\n",
              "      <td>The Net</td>\n",
              "      <td>1.136610</td>\n",
              "      <td>Drama</td>\n",
              "      <td>1995</td>\n",
              "      <td>1106279658</td>\n",
              "      <td>22000000</td>\n",
              "      <td>1084279658</td>\n",
              "      <td>49.285439</td>\n",
              "    </tr>\n",
              "  </tbody>\n",
              "</table>\n",
              "</div>\n",
              "      <button class=\"colab-df-convert\" onclick=\"convertToInteractive('df-b328a4d5-0950-4404-87a0-33606949ac2d')\"\n",
              "              title=\"Convert this dataframe to an interactive table.\"\n",
              "              style=\"display:none;\">\n",
              "        \n",
              "  <svg xmlns=\"http://www.w3.org/2000/svg\" height=\"24px\"viewBox=\"0 0 24 24\"\n",
              "       width=\"24px\">\n",
              "    <path d=\"M0 0h24v24H0V0z\" fill=\"none\"/>\n",
              "    <path d=\"M18.56 5.44l.94 2.06.94-2.06 2.06-.94-2.06-.94-.94-2.06-.94 2.06-2.06.94zm-11 1L8.5 8.5l.94-2.06 2.06-.94-2.06-.94L8.5 2.5l-.94 2.06-2.06.94zm10 10l.94 2.06.94-2.06 2.06-.94-2.06-.94-.94-2.06-.94 2.06-2.06.94z\"/><path d=\"M17.41 7.96l-1.37-1.37c-.4-.4-.92-.59-1.43-.59-.52 0-1.04.2-1.43.59L10.3 9.45l-7.72 7.72c-.78.78-.78 2.05 0 2.83L4 21.41c.39.39.9.59 1.41.59.51 0 1.02-.2 1.41-.59l7.78-7.78 2.81-2.81c.8-.78.8-2.07 0-2.86zM5.41 20L4 18.59l7.72-7.72 1.47 1.35L5.41 20z\"/>\n",
              "  </svg>\n",
              "      </button>\n",
              "      \n",
              "  <style>\n",
              "    .colab-df-container {\n",
              "      display:flex;\n",
              "      flex-wrap:wrap;\n",
              "      gap: 12px;\n",
              "    }\n",
              "\n",
              "    .colab-df-convert {\n",
              "      background-color: #E8F0FE;\n",
              "      border: none;\n",
              "      border-radius: 50%;\n",
              "      cursor: pointer;\n",
              "      display: none;\n",
              "      fill: #1967D2;\n",
              "      height: 32px;\n",
              "      padding: 0 0 0 0;\n",
              "      width: 32px;\n",
              "    }\n",
              "\n",
              "    .colab-df-convert:hover {\n",
              "      background-color: #E2EBFA;\n",
              "      box-shadow: 0px 1px 2px rgba(60, 64, 67, 0.3), 0px 1px 3px 1px rgba(60, 64, 67, 0.15);\n",
              "      fill: #174EA6;\n",
              "    }\n",
              "\n",
              "    [theme=dark] .colab-df-convert {\n",
              "      background-color: #3B4455;\n",
              "      fill: #D2E3FC;\n",
              "    }\n",
              "\n",
              "    [theme=dark] .colab-df-convert:hover {\n",
              "      background-color: #434B5C;\n",
              "      box-shadow: 0px 1px 3px 1px rgba(0, 0, 0, 0.15);\n",
              "      filter: drop-shadow(0px 1px 2px rgba(0, 0, 0, 0.3));\n",
              "      fill: #FFFFFF;\n",
              "    }\n",
              "  </style>\n",
              "\n",
              "      <script>\n",
              "        const buttonEl =\n",
              "          document.querySelector('#df-b328a4d5-0950-4404-87a0-33606949ac2d button.colab-df-convert');\n",
              "        buttonEl.style.display =\n",
              "          google.colab.kernel.accessAllowed ? 'block' : 'none';\n",
              "\n",
              "        async function convertToInteractive(key) {\n",
              "          const element = document.querySelector('#df-b328a4d5-0950-4404-87a0-33606949ac2d');\n",
              "          const dataTable =\n",
              "            await google.colab.kernel.invokeFunction('convertToInteractive',\n",
              "                                                     [key], {});\n",
              "          if (!dataTable) return;\n",
              "\n",
              "          const docLinkHtml = 'Like what you see? Visit the ' +\n",
              "            '<a target=\"_blank\" href=https://colab.research.google.com/notebooks/data_table.ipynb>data table notebook</a>'\n",
              "            + ' to learn more about interactive tables.';\n",
              "          element.innerHTML = '';\n",
              "          dataTable['output_type'] = 'display_data';\n",
              "          await google.colab.output.renderOutput(dataTable, element);\n",
              "          const docLink = document.createElement('div');\n",
              "          docLink.innerHTML = docLinkHtml;\n",
              "          element.appendChild(docLink);\n",
              "        }\n",
              "      </script>\n",
              "    </div>\n",
              "  </div>\n",
              "  "
            ]
          },
          "metadata": {},
          "execution_count": 8
        }
      ]
    },
    {
      "cell_type": "markdown",
      "metadata": {
        "id": "YbF0V_WGW3cz"
      },
      "source": [
        "<a id='conclusions'></a>\n",
        "## Conclusions\n",
        "\n",
        "\n",
        "> **Restults:**\n",
        "\n",
        "> For our analysis, we found that the movie genres with higher revenues come with higher popularity, higher budget, and higher net profit. We found the same findings when we look at the individual movies with higher revenues. We can conclude that production films are willing to invest more money in popular movies genres. Based on the data, the higher budget will allow firms to produce high-quality movies which generate higher revenue and net profit. As we can see from the top 10 most profitable movies, the return on investments is 4 times to 10.73 times on their budget.\n",
        "\n",
        "> **Limiations:**\n",
        "\n",
        "> * Almost every movie has multiple genres, and we have included all the genres during our calculation.\n",
        "* The missing values in the data will affect our accuracy of analysis, if further investigation is needed, we can perform a statistical test to determine our result whether is statistically significant.\n",
        "\n",
        "\n",
        "\n"
      ]
    }
  ],
  "metadata": {
    "kernelspec": {
      "display_name": "Python [default]",
      "language": "python",
      "name": "python3"
    },
    "language_info": {
      "codemirror_mode": {
        "name": "ipython",
        "version": 3
      },
      "file_extension": ".py",
      "mimetype": "text/x-python",
      "name": "python",
      "nbconvert_exporter": "python",
      "pygments_lexer": "ipython3",
      "version": "3.5.3"
    },
    "colab": {
      "provenance": [],
      "collapsed_sections": []
    }
  },
  "nbformat": 4,
  "nbformat_minor": 0
}